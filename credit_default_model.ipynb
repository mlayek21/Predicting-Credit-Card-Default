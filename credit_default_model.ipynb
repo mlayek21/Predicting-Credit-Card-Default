{
 "cells": [
  {
   "cell_type": "code",
   "execution_count": 1,
   "id": "7cfcd4fc-9d45-4292-a8b6-23f613b48df7",
   "metadata": {},
   "outputs": [],
   "source": [
    "import pandas as pd\n",
    "import numpy as np\n",
    "import matplotlib.pyplot as plt\n",
    "from sklearn import preprocessing\n",
    "\n",
    "from sklearn.preprocessing import MinMaxScaler\n",
    "from sklearn.preprocessing import MinMaxScaler, StandardScaler, MaxAbsScaler, RobustScaler\n",
    "import plotly.express as px\n",
    "from sklearn.cluster import MiniBatchKMeans, KMeans, DBSCAN\n",
    "from sklearn.metrics import silhouette_score\n",
    "from sklearn.decomposition import PCA"
   ]
  },
  {
   "cell_type": "code",
   "execution_count": 52,
   "id": "5c40ebd6-382f-4a6d-825c-e73faa7c2a32",
   "metadata": {},
   "outputs": [],
   "source": [
    "df1 = pd.read_csv('Strategy_Challenge_Development_Data_vF.csv')\n",
    "df2 = pd.read_csv('Strategy_Challenge_Leaderboard_Data_vF.csv')\n",
    "df3 = pd.read_csv('Strategy_Challenge_Sample_Submission_File_vF.csv')"
   ]
  },
  {
   "cell_type": "code",
   "execution_count": 59,
   "id": "ae1ddeff-d613-4b22-b5c9-349ddacc0604",
   "metadata": {},
   "outputs": [
    {
     "data": {
      "text/html": [
       "<div>\n",
       "<style scoped>\n",
       "    .dataframe tbody tr th:only-of-type {\n",
       "        vertical-align: middle;\n",
       "    }\n",
       "\n",
       "    .dataframe tbody tr th {\n",
       "        vertical-align: top;\n",
       "    }\n",
       "\n",
       "    .dataframe thead th {\n",
       "        text-align: right;\n",
       "    }\n",
       "</style>\n",
       "<table border=\"1\" class=\"dataframe\">\n",
       "  <thead>\n",
       "    <tr style=\"text-align: right;\">\n",
       "      <th></th>\n",
       "      <th>361AC00518_238_340</th>\n",
       "      <th>6000</th>\n",
       "    </tr>\n",
       "  </thead>\n",
       "  <tbody>\n",
       "    <tr>\n",
       "      <th>0</th>\n",
       "      <td>361CC00378_542_151</td>\n",
       "      <td>6000</td>\n",
       "    </tr>\n",
       "    <tr>\n",
       "      <th>1</th>\n",
       "      <td>0016000975_559_35</td>\n",
       "      <td>4000</td>\n",
       "    </tr>\n",
       "    <tr>\n",
       "      <th>2</th>\n",
       "      <td>0016001518_935_146</td>\n",
       "      <td>2000</td>\n",
       "    </tr>\n",
       "    <tr>\n",
       "      <th>3</th>\n",
       "      <td>0016002778_780_137</td>\n",
       "      <td>6000</td>\n",
       "    </tr>\n",
       "    <tr>\n",
       "      <th>4</th>\n",
       "      <td>0016002975_313_743</td>\n",
       "      <td>6000</td>\n",
       "    </tr>\n",
       "    <tr>\n",
       "      <th>...</th>\n",
       "      <td>...</td>\n",
       "      <td>...</td>\n",
       "    </tr>\n",
       "    <tr>\n",
       "      <th>42770</th>\n",
       "      <td>365D100138_586_45</td>\n",
       "      <td>8000</td>\n",
       "    </tr>\n",
       "    <tr>\n",
       "      <th>42771</th>\n",
       "      <td>365U700062_535_341</td>\n",
       "      <td>4000</td>\n",
       "    </tr>\n",
       "    <tr>\n",
       "      <th>42772</th>\n",
       "      <td>365U700075_270_583</td>\n",
       "      <td>25000</td>\n",
       "    </tr>\n",
       "    <tr>\n",
       "      <th>42773</th>\n",
       "      <td>365U700362_297_553</td>\n",
       "      <td>15000</td>\n",
       "    </tr>\n",
       "    <tr>\n",
       "      <th>42774</th>\n",
       "      <td>365U700408_977_953</td>\n",
       "      <td>25000</td>\n",
       "    </tr>\n",
       "  </tbody>\n",
       "</table>\n",
       "<p>42775 rows × 2 columns</p>\n",
       "</div>"
      ],
      "text/plain": [
       "       361AC00518_238_340   6000\n",
       "0      361CC00378_542_151   6000\n",
       "1       0016000975_559_35   4000\n",
       "2      0016001518_935_146   2000\n",
       "3      0016002778_780_137   6000\n",
       "4      0016002975_313_743   6000\n",
       "...                   ...    ...\n",
       "42770   365D100138_586_45   8000\n",
       "42771  365U700062_535_341   4000\n",
       "42772  365U700075_270_583  25000\n",
       "42773  365U700362_297_553  15000\n",
       "42774  365U700408_977_953  25000\n",
       "\n",
       "[42775 rows x 2 columns]"
      ]
     },
     "execution_count": 59,
     "metadata": {},
     "output_type": "execute_result"
    }
   ],
   "source": [
    "df3"
   ]
  },
  {
   "cell_type": "code",
   "execution_count": 62,
   "id": "cc44b8e0-0493-497d-a128-e340a37761fe",
   "metadata": {},
   "outputs": [
    {
     "data": {
      "text/plain": [
       "Index(['unique_id', 'product_ind', 'prod_fee_in', 'risk_score_1',\n",
       "       'external_spend_1', 'Total_Capacity', 'External_Payment_1',\n",
       "       'external_balance_1', 'External_Payment_2', 'risk_score_2', 'soi',\n",
       "       'acqusition_method', 'external_preferred_line_1',\n",
       "       'external_preferred_line_2', 'inq_last12m', 'external_delinquency_1',\n",
       "       'avg_external_line', 'avg_external_utilization_1',\n",
       "       'no_of_external_cards', 'avg_external_utilization_2',\n",
       "       'No_of_External_Payments', 'oldest_trade_tenure',\n",
       "       'external_utilization_high_ind', 'no_external_card_util75_line5k',\n",
       "       'na_dspt_new_rt_card_ct', 'avg_external_utilization_3',\n",
       "       'na_trd_open_24mo_ct', 'external_delinquency_2',\n",
       "       'na_bank_card_open_before_72mo_ct', 'avg_external_utilization_4',\n",
       "       'external_balance_2', 'na_open_rvbc_util_gte100_ct',\n",
       "       'max_external_line', 'min_external_line', 'external_delinquency_3',\n",
       "       'na_open_trd_ct_bal_gt0_pct', 'na_rcnt_mtge_open_ms',\n",
       "       'external_pref_card_paydown', 'na_bal_parker_ct', 'ext_spend_2',\n",
       "       'ext_spend_3', 'na_switch_pref_card_12mo_ct', 'external_avg_paydown_1',\n",
       "       'external_avg_paydown_2', 'external_balance_3', 'recent_cancelled_line',\n",
       "       'model_line', 'actual_line_assigned_random', 'internal_spend_2yr',\n",
       "       'internal_bal_2yr', 'internal_rev_2yr', 'internal_loss_2yr',\n",
       "       'internal_profit_2yr'],\n",
       "      dtype='object')"
      ]
     },
     "execution_count": 62,
     "metadata": {},
     "output_type": "execute_result"
    }
   ],
   "source": [
    "df1.keys()"
   ]
  },
  {
   "cell_type": "code",
   "execution_count": null,
   "id": "c4aa02b7-d9fb-4a86-8450-b6b0276632ec",
   "metadata": {},
   "outputs": [],
   "source": []
  }
 ],
 "metadata": {
  "kernelspec": {
   "display_name": "Python 3 (ipykernel)",
   "language": "python",
   "name": "python3"
  },
  "language_info": {
   "codemirror_mode": {
    "name": "ipython",
    "version": 3
   },
   "file_extension": ".py",
   "mimetype": "text/x-python",
   "name": "python",
   "nbconvert_exporter": "python",
   "pygments_lexer": "ipython3",
   "version": "3.9.13"
  }
 },
 "nbformat": 4,
 "nbformat_minor": 5
}
